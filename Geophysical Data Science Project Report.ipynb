{
 "cells": [
  {
   "cell_type": "markdown",
   "id": "da64d453",
   "metadata": {},
   "source": [
    "# Title"
   ]
  },
  {
   "attachments": {},
   "cell_type": "markdown",
   "id": "945ebd1b",
   "metadata": {},
   "source": [
    "#### Group 6\n",
    "Author:   Halimah Bakare, Hannah Caves, Illia Nazarenko, Samuel Peacham, Dario Pinto, Mako Shibata"
   ]
  },
  {
   "cell_type": "markdown",
   "id": "6c245649",
   "metadata": {},
   "source": [
    "# Objective \n",
    "\n",
    "Just eat bike has closed its business in Edinburgh in 2022. ~ \n",
    "This report aimed to investigate the with the topics of: \n",
    "- 1\n",
    "- 2\n",
    "- 3\n",
    "- 4\n",
    "\n"
   ]
  },
  {
   "cell_type": "markdown",
   "id": "24f1e36a",
   "metadata": {},
   "source": [
    "# 1.\tCycle Station Popularity in Relation to Crime Rate and the Scottish Index of Multiple Deprivation:                                                                                              "
   ]
  }
 ],
 "metadata": {
  "kernelspec": {
   "display_name": "Python 3 (ipykernel)",
   "language": "python",
   "name": "python3"
  },
  "language_info": {
   "codemirror_mode": {
    "name": "ipython",
    "version": 3
   },
   "file_extension": ".py",
   "mimetype": "text/x-python",
   "name": "python",
   "nbconvert_exporter": "python",
   "pygments_lexer": "ipython3",
   "version": "3.11.5"
  }
 },
 "nbformat": 4,
 "nbformat_minor": 5
}
